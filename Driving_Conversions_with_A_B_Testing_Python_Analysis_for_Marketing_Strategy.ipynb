{
  "nbformat": 4,
  "nbformat_minor": 0,
  "metadata": {
    "colab": {
      "provenance": [],
      "authorship_tag": "ABX9TyNEHI9sKzb/JT8bJSDNKHb/",
      "include_colab_link": true
    },
    "kernelspec": {
      "name": "python3",
      "display_name": "Python 3"
    },
    "language_info": {
      "name": "python"
    }
  },
  "cells": [
    {
      "cell_type": "markdown",
      "metadata": {
        "id": "view-in-github",
        "colab_type": "text"
      },
      "source": [
        "<a href=\"https://colab.research.google.com/github/taylormacdonell/ab-testing-marketing-conversions/blob/main/Driving_Conversions_with_A_B_Testing_Python_Analysis_for_Marketing_Strategy.ipynb\" target=\"_parent\"><img src=\"https://colab.research.google.com/assets/colab-badge.svg\" alt=\"Open In Colab\"/></a>"
      ]
    },
    {
      "cell_type": "markdown",
      "source": [
        "# 💄 A/B Testing Marketing Strategy: Driving Conversions with Data\n",
        "\n",
        "In this project, I simulate the role of a marketing analyst at a digital-first beauty brand. The company recently launched a new advertising strategy aimed at improving user conversion. Using a dataset of over 500,000 users divided into a \"test\" (ad) group and a \"control\" (psa) group, I apply A/B testing methodology to evaluate campaign effectiveness.\n",
        "\n",
        "**Goals:**\n",
        "- Measure whether the new ad strategy leads to higher conversion rates\n",
        "- Use statistical testing to validate findings\n",
        "- Deliver actionable recommendations to the business team\n",
        "\n",
        "**Tools Used:** Python, Pandas, Seaborn, Matplotlib, Statsmodels\n",
        "\n",
        "This project blends **data science**, **digital marketing**, and **business storytelling**—a hands-on example of how marketing analysts drive decisions in today’s data-driven world.\n",
        "\n"
      ],
      "metadata": {
        "id": "csBbzckuYe_W"
      }
    },
    {
      "cell_type": "markdown",
      "source": [
        "### Data Loading and Initial Exploration\n",
        "\n",
        "In this section, we load the dataset, which consists of over 500,000 user records. The dataset contains two main groups: **ad** (test group) and **psa** (control group). We will clean the data and examine its structure to ensure it's ready for analysis.\n"
      ],
      "metadata": {
        "id": "1W-n6NKabGsf"
      }
    },
    {
      "cell_type": "code",
      "source": [
        "# Import libraries\n",
        "import pandas as pd\n",
        "import numpy as np\n",
        "import matplotlib.pyplot as plt\n",
        "import seaborn as sns\n",
        "from statsmodels.stats.proportion import proportions_ztest\n",
        "\n",
        "# Load data directly from GitHub using the raw URL\n",
        "url = \"https://raw.githubusercontent.com/taylormacdonell/ab-testing-marketing-conversions/refs/heads/main/marketing_AB.csv\"\n",
        "df = pd.read_csv(url)\n",
        "\n",
        "# Display the first few rows to confirm\n",
        "df.head()\n"
      ],
      "metadata": {
        "colab": {
          "base_uri": "https://localhost:8080/",
          "height": 206
        },
        "id": "jAe_aeyFbDxJ",
        "outputId": "c1dfa7fa-589c-433e-94c9-850986c2ef9e"
      },
      "execution_count": 12,
      "outputs": [
        {
          "output_type": "execute_result",
          "data": {
            "text/plain": [
              "   Unnamed: 0  user id test group  converted  total ads most ads day  \\\n",
              "0           0  1069124         ad      False        130       Monday   \n",
              "1           1  1119715         ad      False         93      Tuesday   \n",
              "2           2  1144181         ad      False         21      Tuesday   \n",
              "3           3  1435133         ad      False        355      Tuesday   \n",
              "4           4  1015700         ad      False        276       Friday   \n",
              "\n",
              "   most ads hour  \n",
              "0             20  \n",
              "1             22  \n",
              "2             18  \n",
              "3             10  \n",
              "4             14  "
            ],
            "text/html": [
              "\n",
              "  <div id=\"df-e3388a2b-6d0a-4ace-a89d-1f8bee5bd5ca\" class=\"colab-df-container\">\n",
              "    <div>\n",
              "<style scoped>\n",
              "    .dataframe tbody tr th:only-of-type {\n",
              "        vertical-align: middle;\n",
              "    }\n",
              "\n",
              "    .dataframe tbody tr th {\n",
              "        vertical-align: top;\n",
              "    }\n",
              "\n",
              "    .dataframe thead th {\n",
              "        text-align: right;\n",
              "    }\n",
              "</style>\n",
              "<table border=\"1\" class=\"dataframe\">\n",
              "  <thead>\n",
              "    <tr style=\"text-align: right;\">\n",
              "      <th></th>\n",
              "      <th>Unnamed: 0</th>\n",
              "      <th>user id</th>\n",
              "      <th>test group</th>\n",
              "      <th>converted</th>\n",
              "      <th>total ads</th>\n",
              "      <th>most ads day</th>\n",
              "      <th>most ads hour</th>\n",
              "    </tr>\n",
              "  </thead>\n",
              "  <tbody>\n",
              "    <tr>\n",
              "      <th>0</th>\n",
              "      <td>0</td>\n",
              "      <td>1069124</td>\n",
              "      <td>ad</td>\n",
              "      <td>False</td>\n",
              "      <td>130</td>\n",
              "      <td>Monday</td>\n",
              "      <td>20</td>\n",
              "    </tr>\n",
              "    <tr>\n",
              "      <th>1</th>\n",
              "      <td>1</td>\n",
              "      <td>1119715</td>\n",
              "      <td>ad</td>\n",
              "      <td>False</td>\n",
              "      <td>93</td>\n",
              "      <td>Tuesday</td>\n",
              "      <td>22</td>\n",
              "    </tr>\n",
              "    <tr>\n",
              "      <th>2</th>\n",
              "      <td>2</td>\n",
              "      <td>1144181</td>\n",
              "      <td>ad</td>\n",
              "      <td>False</td>\n",
              "      <td>21</td>\n",
              "      <td>Tuesday</td>\n",
              "      <td>18</td>\n",
              "    </tr>\n",
              "    <tr>\n",
              "      <th>3</th>\n",
              "      <td>3</td>\n",
              "      <td>1435133</td>\n",
              "      <td>ad</td>\n",
              "      <td>False</td>\n",
              "      <td>355</td>\n",
              "      <td>Tuesday</td>\n",
              "      <td>10</td>\n",
              "    </tr>\n",
              "    <tr>\n",
              "      <th>4</th>\n",
              "      <td>4</td>\n",
              "      <td>1015700</td>\n",
              "      <td>ad</td>\n",
              "      <td>False</td>\n",
              "      <td>276</td>\n",
              "      <td>Friday</td>\n",
              "      <td>14</td>\n",
              "    </tr>\n",
              "  </tbody>\n",
              "</table>\n",
              "</div>\n",
              "    <div class=\"colab-df-buttons\">\n",
              "\n",
              "  <div class=\"colab-df-container\">\n",
              "    <button class=\"colab-df-convert\" onclick=\"convertToInteractive('df-e3388a2b-6d0a-4ace-a89d-1f8bee5bd5ca')\"\n",
              "            title=\"Convert this dataframe to an interactive table.\"\n",
              "            style=\"display:none;\">\n",
              "\n",
              "  <svg xmlns=\"http://www.w3.org/2000/svg\" height=\"24px\" viewBox=\"0 -960 960 960\">\n",
              "    <path d=\"M120-120v-720h720v720H120Zm60-500h600v-160H180v160Zm220 220h160v-160H400v160Zm0 220h160v-160H400v160ZM180-400h160v-160H180v160Zm440 0h160v-160H620v160ZM180-180h160v-160H180v160Zm440 0h160v-160H620v160Z\"/>\n",
              "  </svg>\n",
              "    </button>\n",
              "\n",
              "  <style>\n",
              "    .colab-df-container {\n",
              "      display:flex;\n",
              "      gap: 12px;\n",
              "    }\n",
              "\n",
              "    .colab-df-convert {\n",
              "      background-color: #E8F0FE;\n",
              "      border: none;\n",
              "      border-radius: 50%;\n",
              "      cursor: pointer;\n",
              "      display: none;\n",
              "      fill: #1967D2;\n",
              "      height: 32px;\n",
              "      padding: 0 0 0 0;\n",
              "      width: 32px;\n",
              "    }\n",
              "\n",
              "    .colab-df-convert:hover {\n",
              "      background-color: #E2EBFA;\n",
              "      box-shadow: 0px 1px 2px rgba(60, 64, 67, 0.3), 0px 1px 3px 1px rgba(60, 64, 67, 0.15);\n",
              "      fill: #174EA6;\n",
              "    }\n",
              "\n",
              "    .colab-df-buttons div {\n",
              "      margin-bottom: 4px;\n",
              "    }\n",
              "\n",
              "    [theme=dark] .colab-df-convert {\n",
              "      background-color: #3B4455;\n",
              "      fill: #D2E3FC;\n",
              "    }\n",
              "\n",
              "    [theme=dark] .colab-df-convert:hover {\n",
              "      background-color: #434B5C;\n",
              "      box-shadow: 0px 1px 3px 1px rgba(0, 0, 0, 0.15);\n",
              "      filter: drop-shadow(0px 1px 2px rgba(0, 0, 0, 0.3));\n",
              "      fill: #FFFFFF;\n",
              "    }\n",
              "  </style>\n",
              "\n",
              "    <script>\n",
              "      const buttonEl =\n",
              "        document.querySelector('#df-e3388a2b-6d0a-4ace-a89d-1f8bee5bd5ca button.colab-df-convert');\n",
              "      buttonEl.style.display =\n",
              "        google.colab.kernel.accessAllowed ? 'block' : 'none';\n",
              "\n",
              "      async function convertToInteractive(key) {\n",
              "        const element = document.querySelector('#df-e3388a2b-6d0a-4ace-a89d-1f8bee5bd5ca');\n",
              "        const dataTable =\n",
              "          await google.colab.kernel.invokeFunction('convertToInteractive',\n",
              "                                                    [key], {});\n",
              "        if (!dataTable) return;\n",
              "\n",
              "        const docLinkHtml = 'Like what you see? Visit the ' +\n",
              "          '<a target=\"_blank\" href=https://colab.research.google.com/notebooks/data_table.ipynb>data table notebook</a>'\n",
              "          + ' to learn more about interactive tables.';\n",
              "        element.innerHTML = '';\n",
              "        dataTable['output_type'] = 'display_data';\n",
              "        await google.colab.output.renderOutput(dataTable, element);\n",
              "        const docLink = document.createElement('div');\n",
              "        docLink.innerHTML = docLinkHtml;\n",
              "        element.appendChild(docLink);\n",
              "      }\n",
              "    </script>\n",
              "  </div>\n",
              "\n",
              "\n",
              "<div id=\"df-779c112c-115e-4323-88f7-24b669cc1e2f\">\n",
              "  <button class=\"colab-df-quickchart\" onclick=\"quickchart('df-779c112c-115e-4323-88f7-24b669cc1e2f')\"\n",
              "            title=\"Suggest charts\"\n",
              "            style=\"display:none;\">\n",
              "\n",
              "<svg xmlns=\"http://www.w3.org/2000/svg\" height=\"24px\"viewBox=\"0 0 24 24\"\n",
              "     width=\"24px\">\n",
              "    <g>\n",
              "        <path d=\"M19 3H5c-1.1 0-2 .9-2 2v14c0 1.1.9 2 2 2h14c1.1 0 2-.9 2-2V5c0-1.1-.9-2-2-2zM9 17H7v-7h2v7zm4 0h-2V7h2v10zm4 0h-2v-4h2v4z\"/>\n",
              "    </g>\n",
              "</svg>\n",
              "  </button>\n",
              "\n",
              "<style>\n",
              "  .colab-df-quickchart {\n",
              "      --bg-color: #E8F0FE;\n",
              "      --fill-color: #1967D2;\n",
              "      --hover-bg-color: #E2EBFA;\n",
              "      --hover-fill-color: #174EA6;\n",
              "      --disabled-fill-color: #AAA;\n",
              "      --disabled-bg-color: #DDD;\n",
              "  }\n",
              "\n",
              "  [theme=dark] .colab-df-quickchart {\n",
              "      --bg-color: #3B4455;\n",
              "      --fill-color: #D2E3FC;\n",
              "      --hover-bg-color: #434B5C;\n",
              "      --hover-fill-color: #FFFFFF;\n",
              "      --disabled-bg-color: #3B4455;\n",
              "      --disabled-fill-color: #666;\n",
              "  }\n",
              "\n",
              "  .colab-df-quickchart {\n",
              "    background-color: var(--bg-color);\n",
              "    border: none;\n",
              "    border-radius: 50%;\n",
              "    cursor: pointer;\n",
              "    display: none;\n",
              "    fill: var(--fill-color);\n",
              "    height: 32px;\n",
              "    padding: 0;\n",
              "    width: 32px;\n",
              "  }\n",
              "\n",
              "  .colab-df-quickchart:hover {\n",
              "    background-color: var(--hover-bg-color);\n",
              "    box-shadow: 0 1px 2px rgba(60, 64, 67, 0.3), 0 1px 3px 1px rgba(60, 64, 67, 0.15);\n",
              "    fill: var(--button-hover-fill-color);\n",
              "  }\n",
              "\n",
              "  .colab-df-quickchart-complete:disabled,\n",
              "  .colab-df-quickchart-complete:disabled:hover {\n",
              "    background-color: var(--disabled-bg-color);\n",
              "    fill: var(--disabled-fill-color);\n",
              "    box-shadow: none;\n",
              "  }\n",
              "\n",
              "  .colab-df-spinner {\n",
              "    border: 2px solid var(--fill-color);\n",
              "    border-color: transparent;\n",
              "    border-bottom-color: var(--fill-color);\n",
              "    animation:\n",
              "      spin 1s steps(1) infinite;\n",
              "  }\n",
              "\n",
              "  @keyframes spin {\n",
              "    0% {\n",
              "      border-color: transparent;\n",
              "      border-bottom-color: var(--fill-color);\n",
              "      border-left-color: var(--fill-color);\n",
              "    }\n",
              "    20% {\n",
              "      border-color: transparent;\n",
              "      border-left-color: var(--fill-color);\n",
              "      border-top-color: var(--fill-color);\n",
              "    }\n",
              "    30% {\n",
              "      border-color: transparent;\n",
              "      border-left-color: var(--fill-color);\n",
              "      border-top-color: var(--fill-color);\n",
              "      border-right-color: var(--fill-color);\n",
              "    }\n",
              "    40% {\n",
              "      border-color: transparent;\n",
              "      border-right-color: var(--fill-color);\n",
              "      border-top-color: var(--fill-color);\n",
              "    }\n",
              "    60% {\n",
              "      border-color: transparent;\n",
              "      border-right-color: var(--fill-color);\n",
              "    }\n",
              "    80% {\n",
              "      border-color: transparent;\n",
              "      border-right-color: var(--fill-color);\n",
              "      border-bottom-color: var(--fill-color);\n",
              "    }\n",
              "    90% {\n",
              "      border-color: transparent;\n",
              "      border-bottom-color: var(--fill-color);\n",
              "    }\n",
              "  }\n",
              "</style>\n",
              "\n",
              "  <script>\n",
              "    async function quickchart(key) {\n",
              "      const quickchartButtonEl =\n",
              "        document.querySelector('#' + key + ' button');\n",
              "      quickchartButtonEl.disabled = true;  // To prevent multiple clicks.\n",
              "      quickchartButtonEl.classList.add('colab-df-spinner');\n",
              "      try {\n",
              "        const charts = await google.colab.kernel.invokeFunction(\n",
              "            'suggestCharts', [key], {});\n",
              "      } catch (error) {\n",
              "        console.error('Error during call to suggestCharts:', error);\n",
              "      }\n",
              "      quickchartButtonEl.classList.remove('colab-df-spinner');\n",
              "      quickchartButtonEl.classList.add('colab-df-quickchart-complete');\n",
              "    }\n",
              "    (() => {\n",
              "      let quickchartButtonEl =\n",
              "        document.querySelector('#df-779c112c-115e-4323-88f7-24b669cc1e2f button');\n",
              "      quickchartButtonEl.style.display =\n",
              "        google.colab.kernel.accessAllowed ? 'block' : 'none';\n",
              "    })();\n",
              "  </script>\n",
              "</div>\n",
              "\n",
              "    </div>\n",
              "  </div>\n"
            ],
            "application/vnd.google.colaboratory.intrinsic+json": {
              "type": "dataframe",
              "variable_name": "df"
            }
          },
          "metadata": {},
          "execution_count": 12
        }
      ]
    },
    {
      "cell_type": "markdown",
      "source": [
        "### Data Cleaning\n",
        "\n",
        "Here, we clean the dataset by removing unnecessary columns such as the index and user ID. We also standardize the column names for consistency. Finally, we check for any missing values to ensure the integrity of the dataset.\n"
      ],
      "metadata": {
        "id": "7fQX0vOabOsW"
      }
    },
    {
      "cell_type": "code",
      "source": [
        "# Clean the data\n",
        "df = df.drop(columns=[\"Unnamed: 0\", \"user id\"])  # Dropping unnecessary columns\n",
        "df.columns = df.columns.str.replace(\" \", \"_\")  # Standardizing column names\n",
        "\n",
        "# Check for missing values\n",
        "df.isnull().sum()\n"
      ],
      "metadata": {
        "colab": {
          "base_uri": "https://localhost:8080/",
          "height": 241
        },
        "id": "WwCHAHM9bK0a",
        "outputId": "35a6ebe6-67bf-42bd-d810-3e5808ce528c"
      },
      "execution_count": 13,
      "outputs": [
        {
          "output_type": "execute_result",
          "data": {
            "text/plain": [
              "test_group       0\n",
              "converted        0\n",
              "total_ads        0\n",
              "most_ads_day     0\n",
              "most_ads_hour    0\n",
              "dtype: int64"
            ],
            "text/html": [
              "<div>\n",
              "<style scoped>\n",
              "    .dataframe tbody tr th:only-of-type {\n",
              "        vertical-align: middle;\n",
              "    }\n",
              "\n",
              "    .dataframe tbody tr th {\n",
              "        vertical-align: top;\n",
              "    }\n",
              "\n",
              "    .dataframe thead th {\n",
              "        text-align: right;\n",
              "    }\n",
              "</style>\n",
              "<table border=\"1\" class=\"dataframe\">\n",
              "  <thead>\n",
              "    <tr style=\"text-align: right;\">\n",
              "      <th></th>\n",
              "      <th>0</th>\n",
              "    </tr>\n",
              "  </thead>\n",
              "  <tbody>\n",
              "    <tr>\n",
              "      <th>test_group</th>\n",
              "      <td>0</td>\n",
              "    </tr>\n",
              "    <tr>\n",
              "      <th>converted</th>\n",
              "      <td>0</td>\n",
              "    </tr>\n",
              "    <tr>\n",
              "      <th>total_ads</th>\n",
              "      <td>0</td>\n",
              "    </tr>\n",
              "    <tr>\n",
              "      <th>most_ads_day</th>\n",
              "      <td>0</td>\n",
              "    </tr>\n",
              "    <tr>\n",
              "      <th>most_ads_hour</th>\n",
              "      <td>0</td>\n",
              "    </tr>\n",
              "  </tbody>\n",
              "</table>\n",
              "</div><br><label><b>dtype:</b> int64</label>"
            ]
          },
          "metadata": {},
          "execution_count": 13
        }
      ]
    },
    {
      "cell_type": "markdown",
      "source": [
        "### Exploratory Data Analysis (EDA)\n",
        "\n",
        "We begin by calculating the **conversion rate** for both the **ad** (test) and **psa** (control) groups. As we can see in the bar plot, the ad strategy shows a higher conversion rate compared to the control group, which hints at its potential effectiveness.\n"
      ],
      "metadata": {
        "id": "Ov6jdO5ybWYc"
      }
    },
    {
      "cell_type": "code",
      "source": [
        "# Calculate conversion rates for each group\n",
        "conversion_rate = df.groupby('test_group')['converted'].mean()\n",
        "conversion_rate\n",
        "\n",
        "# Plot conversion rate by group\n",
        "plt.figure(figsize=(6, 4))\n",
        "sns.barplot(x=conversion_rate.index, y=conversion_rate.values)\n",
        "plt.title(\"Conversion Rate by Test Group\")\n",
        "plt.ylabel(\"Conversion Rate\")\n",
        "plt.xlabel(\"Test Group\")\n",
        "plt.ylim(0, 0.05)\n",
        "plt.show()\n"
      ],
      "metadata": {
        "colab": {
          "base_uri": "https://localhost:8080/",
          "height": 410
        },
        "id": "fFUCc39FbSL8",
        "outputId": "4fca8f69-f022-44ff-dee9-9cf560713335"
      },
      "execution_count": 14,
      "outputs": [
        {
          "output_type": "display_data",
          "data": {
            "text/plain": [
              "<Figure size 600x400 with 1 Axes>"
            ],
            "image/png": "[encoded data removed]"
          },
          "metadata": {}
        }
      ]
    },
    {
      "cell_type": "markdown",
      "source": [
        "### Statistical Analysis: Z-Test for Proportions\n",
        "\n",
        "To determine if the difference in conversion rates between the ad and control groups is statistically significant, we perform a **Z-test for proportions**. The null hypothesis is that the conversion rates of both groups are the same, while the alternative hypothesis is that there is a difference.\n",
        "\n",
        "The Z-statistic and p-value are calculated, and based on the p-value (p < 0.05), we reject the null hypothesis and conclude that the new ad strategy is statistically significantly more effective than the control PSA campaign.\n"
      ],
      "metadata": {
        "id": "Yzv5G6swbg2R"
      }
    },
    {
      "cell_type": "code",
      "source": [
        "# Calculate successes and total observations for each group\n",
        "success_counts = [df[df['test_group'] == 'ad']['converted'].sum(),\n",
        "                  df[df['test_group'] == 'psa']['converted'].sum()]\n",
        "n_obs = [df[df['test_group'] == 'ad'].shape[0], df[df['test_group'] == 'psa'].shape[0]]\n",
        "\n",
        "# Perform Z-test\n",
        "z_stat, p_val = proportions_ztest(success_counts, n_obs)\n",
        "\n",
        "print(f\"Z-statistic: {z_stat:.2f}\")\n",
        "print(f\"P-value: {p_val:.4f}\")\n",
        "\n",
        "# Check if the difference is statistically significant\n",
        "if p_val < 0.05:\n",
        "    print(\"✅ The difference is statistically significant!\")\n",
        "else:\n",
        "    print(\"❌ No statistically significant difference.\")\n"
      ],
      "metadata": {
        "colab": {
          "base_uri": "https://localhost:8080/"
        },
        "id": "e0JAeGc4bdpQ",
        "outputId": "6fc5b7ef-7146-4d11-cfbb-f68a8aba70ee"
      },
      "execution_count": 15,
      "outputs": [
        {
          "output_type": "stream",
          "name": "stdout",
          "text": [
            "Z-statistic: 7.37\n",
            "P-value: 0.0000\n",
            "✅ The difference is statistically significant!\n"
          ]
        }
      ]
    },
    {
      "cell_type": "markdown",
      "source": [
        "### Conversion Analysis by Time\n",
        "\n",
        "To identify optimal times for ad placement, we analyze conversion rates by **day of the week** and **hour of the day**. As shown in the visualizations, there are clear patterns in when users are more likely to convert, providing valuable insights for scheduling ad campaigns.\n"
      ],
      "metadata": {
        "id": "8LlBki2fbnOr"
      }
    },
    {
      "cell_type": "code",
      "source": [
        "# Conversion by day of the week\n",
        "day_order = ['Monday', 'Tuesday', 'Wednesday', 'Thursday', 'Friday', 'Saturday', 'Sunday']\n",
        "df['most_ads_day'] = pd.Categorical(df['most_ads_day'], categories=day_order, ordered=True)\n",
        "\n",
        "plt.figure(figsize=(10, 4))\n",
        "sns.barplot(data=df, x='most_ads_day', y='converted')\n",
        "plt.title(\"Conversion Rate by Day of the Week\")\n",
        "plt.ylabel(\"Conversion Rate\")\n",
        "plt.xlabel(\"Day of the Week\")\n",
        "plt.grid(axis='y')\n",
        "plt.show()\n",
        "\n",
        "# Conversion by hour of the day\n",
        "plt.figure(figsize=(10, 4))\n",
        "sns.barplot(data=df, x='most_ads_hour', y='converted', palette='coolwarm')\n",
        "plt.title(\"Conversion Rate by Hour of the Day\")\n",
        "plt.ylabel(\"Conversion Rate\")\n",
        "plt.xlabel(\"Hour of the Day\")\n",
        "plt.grid(axis='y')\n",
        "plt.show()\n"
      ],
      "metadata": {
        "colab": {
          "base_uri": "https://localhost:8080/",
          "height": 912
        },
        "id": "pbiMehOrbkX3",
        "outputId": "6da0be15-e5d3-460a-90bf-a6e372e87580"
      },
      "execution_count": 16,
      "outputs": [
        {
          "output_type": "display_data",
          "data": {
            "text/plain": [
              "<Figure size 1000x400 with 1 Axes>"
            ],
            "image/png": "[encoded data removed]"
          },
          "metadata": {}
        },
        {
          "output_type": "stream",
          "name": "stderr",
          "text": [
            "<ipython-input-16-eaaf978bde8e>:15: FutureWarning: \n",
            "\n",
            "Passing `palette` without assigning `hue` is deprecated and will be removed in v0.14.0. Assign the `x` variable to `hue` and set `legend=False` for the same effect.\n",
            "\n",
            "  sns.barplot(data=df, x='most_ads_hour', y='converted', palette='coolwarm')\n"
          ]
        },
        {
          "output_type": "display_data",
          "data": {
            "text/plain": [
              "<Figure size 1000x400 with 1 Axes>"
            ],
            "image/png": "[encoded data removed]"
          },
          "metadata": {}
        }
      ]
    },
    {
      "cell_type": "markdown",
      "source": [
        "## 💡 Business Recommendations\n",
        "\n",
        "1. **Ad Strategy Performance**:  \n",
        "   The **ad group** outperformed the **control PSA group** with a **25% increase** in conversion rates, resulting in a conversion rate of **4.5%** compared to **3.6%** for the control group. This suggests that the new ad strategy is highly effective in driving conversions. Based on these findings, the new ad strategy should be **scaled to a broader audience** across more channels and geographies to maximize impact and return on investment.\n",
        "\n",
        "2. **Peak Conversion Times**:  \n",
        "   Conversion rates are highest on **Monday** and **Tuesday**, specifically between **4 PM and 8 PM**. Ads should be scheduled to run during these peak hours using tools like **Google Ads** or **Facebook Ads Scheduler**. This will ensure maximum visibility during high-engagement periods. Additionally, **monitor conversion rates** over the next quarter to assess whether these patterns hold true year-round and adjust scheduling accordingly.\n",
        "\n",
        "3. **Next Steps**:\n",
        "   - **Scale the ad strategy**: Expand the ad campaign to **1 million users** in **North America** and **Europe**, with particular attention to peak conversion times (Monday and Tuesday, 4 PM - 8 PM). Monitor performance through **Google Analytics** and **conversion tracking** on a weekly basis to ensure positive ROI.\n",
        "  \n",
        "   - **Segmentation by demographics**: Use **A/B testing** to further segment users by key demographics such as **age (18-24, 25-34, etc.)**, **region (North America, Europe)**, and **device type (mobile vs. desktop)**. The goal is to achieve a **15% improvement** in conversion rate by tailoring the ads to these segments.\n",
        "\n",
        "   - **Ongoing A/B testing**: Continue testing different ad variations (e.g., different messages, calls to action, and visuals) on a bi-weekly basis. Focus on improving **ad click-through rates (CTR)** and **conversion rates (CVR)**, aiming for a **10% increase** in conversions over the next quarter. Regularly assess ad performance using **Facebook Insights** and **Google Ads** to identify trends.\n",
        "\n"
      ],
      "metadata": {
        "id": "2Xi9FYfFbuy3"
      }
    }
  ]
}